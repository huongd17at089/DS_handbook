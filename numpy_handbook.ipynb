{
  "nbformat": 4,
  "nbformat_minor": 0,
  "metadata": {
    "colab": {
      "name": "numpy_handbook.ipynb",
      "provenance": [],
      "authorship_tag": "ABX9TyP5iCBWMgLQgwHGTv9uOHzg",
      "include_colab_link": true
    },
    "kernelspec": {
      "name": "python3",
      "display_name": "Python 3"
    },
    "language_info": {
      "name": "python"
    }
  },
  "cells": [
    {
      "cell_type": "markdown",
      "metadata": {
        "id": "view-in-github",
        "colab_type": "text"
      },
      "source": [
        "<a href=\"https://colab.research.google.com/github/huongd17at089/DS_handbook/blob/master/numpy_handbook.ipynb\" target=\"_parent\"><img src=\"https://colab.research.google.com/assets/colab-badge.svg\" alt=\"Open In Colab\"/></a>"
      ]
    },
    {
      "cell_type": "markdown",
      "metadata": {
        "id": "pDxK9dsmvXgM"
      },
      "source": [
        "# Numpy"
      ]
    },
    {
      "cell_type": "code",
      "metadata": {
        "id": "QfYwgY4LrH6I"
      },
      "source": [
        "import numpy as np"
      ],
      "execution_count": 2,
      "outputs": []
    },
    {
      "cell_type": "code",
      "metadata": {
        "id": "FpF38hnKslpw"
      },
      "source": [
        "np?"
      ],
      "execution_count": null,
      "outputs": []
    },
    {
      "cell_type": "code",
      "metadata": {
        "id": "QPPoiC7csqFQ",
        "colab": {
          "base_uri": "https://localhost:8080/"
        },
        "outputId": "9efafc5b-9b9e-4fa6-aec2-066cfac124e0"
      },
      "source": [
        "dir(np)"
      ],
      "execution_count": null,
      "outputs": [
        {
          "output_type": "execute_result",
          "data": {
            "text/plain": [
              "['ALLOW_THREADS',\n",
              " 'AxisError',\n",
              " 'BUFSIZE',\n",
              " 'CLIP',\n",
              " 'ComplexWarning',\n",
              " 'DataSource',\n",
              " 'ERR_CALL',\n",
              " 'ERR_DEFAULT',\n",
              " 'ERR_IGNORE',\n",
              " 'ERR_LOG',\n",
              " 'ERR_PRINT',\n",
              " 'ERR_RAISE',\n",
              " 'ERR_WARN',\n",
              " 'FLOATING_POINT_SUPPORT',\n",
              " 'FPE_DIVIDEBYZERO',\n",
              " 'FPE_INVALID',\n",
              " 'FPE_OVERFLOW',\n",
              " 'FPE_UNDERFLOW',\n",
              " 'False_',\n",
              " 'Inf',\n",
              " 'Infinity',\n",
              " 'MAXDIMS',\n",
              " 'MAY_SHARE_BOUNDS',\n",
              " 'MAY_SHARE_EXACT',\n",
              " 'MachAr',\n",
              " 'ModuleDeprecationWarning',\n",
              " 'NAN',\n",
              " 'NINF',\n",
              " 'NZERO',\n",
              " 'NaN',\n",
              " 'PINF',\n",
              " 'PZERO',\n",
              " 'RAISE',\n",
              " 'RankWarning',\n",
              " 'SHIFT_DIVIDEBYZERO',\n",
              " 'SHIFT_INVALID',\n",
              " 'SHIFT_OVERFLOW',\n",
              " 'SHIFT_UNDERFLOW',\n",
              " 'ScalarType',\n",
              " 'Tester',\n",
              " 'TooHardError',\n",
              " 'True_',\n",
              " 'UFUNC_BUFSIZE_DEFAULT',\n",
              " 'UFUNC_PYVALS_NAME',\n",
              " 'VisibleDeprecationWarning',\n",
              " 'WRAP',\n",
              " '_NoValue',\n",
              " '_UFUNC_API',\n",
              " '__NUMPY_SETUP__',\n",
              " '__all__',\n",
              " '__builtins__',\n",
              " '__cached__',\n",
              " '__config__',\n",
              " '__dir__',\n",
              " '__doc__',\n",
              " '__file__',\n",
              " '__getattr__',\n",
              " '__git_revision__',\n",
              " '__loader__',\n",
              " '__name__',\n",
              " '__package__',\n",
              " '__path__',\n",
              " '__spec__',\n",
              " '__version__',\n",
              " '_add_newdoc_ufunc',\n",
              " '_distributor_init',\n",
              " '_globals',\n",
              " '_mat',\n",
              " '_pytesttester',\n",
              " 'abs',\n",
              " 'absolute',\n",
              " 'add',\n",
              " 'add_docstring',\n",
              " 'add_newdoc',\n",
              " 'add_newdoc_ufunc',\n",
              " 'alen',\n",
              " 'all',\n",
              " 'allclose',\n",
              " 'alltrue',\n",
              " 'amax',\n",
              " 'amin',\n",
              " 'angle',\n",
              " 'any',\n",
              " 'append',\n",
              " 'apply_along_axis',\n",
              " 'apply_over_axes',\n",
              " 'arange',\n",
              " 'arccos',\n",
              " 'arccosh',\n",
              " 'arcsin',\n",
              " 'arcsinh',\n",
              " 'arctan',\n",
              " 'arctan2',\n",
              " 'arctanh',\n",
              " 'argmax',\n",
              " 'argmin',\n",
              " 'argpartition',\n",
              " 'argsort',\n",
              " 'argwhere',\n",
              " 'around',\n",
              " 'array',\n",
              " 'array2string',\n",
              " 'array_equal',\n",
              " 'array_equiv',\n",
              " 'array_repr',\n",
              " 'array_split',\n",
              " 'array_str',\n",
              " 'asanyarray',\n",
              " 'asarray',\n",
              " 'asarray_chkfinite',\n",
              " 'ascontiguousarray',\n",
              " 'asfarray',\n",
              " 'asfortranarray',\n",
              " 'asmatrix',\n",
              " 'asscalar',\n",
              " 'atleast_1d',\n",
              " 'atleast_2d',\n",
              " 'atleast_3d',\n",
              " 'average',\n",
              " 'bartlett',\n",
              " 'base_repr',\n",
              " 'binary_repr',\n",
              " 'bincount',\n",
              " 'bitwise_and',\n",
              " 'bitwise_not',\n",
              " 'bitwise_or',\n",
              " 'bitwise_xor',\n",
              " 'blackman',\n",
              " 'block',\n",
              " 'bmat',\n",
              " 'bool',\n",
              " 'bool8',\n",
              " 'bool_',\n",
              " 'broadcast',\n",
              " 'broadcast_arrays',\n",
              " 'broadcast_to',\n",
              " 'busday_count',\n",
              " 'busday_offset',\n",
              " 'busdaycalendar',\n",
              " 'byte',\n",
              " 'byte_bounds',\n",
              " 'bytes0',\n",
              " 'bytes_',\n",
              " 'c_',\n",
              " 'can_cast',\n",
              " 'cast',\n",
              " 'cbrt',\n",
              " 'cdouble',\n",
              " 'ceil',\n",
              " 'cfloat',\n",
              " 'char',\n",
              " 'character',\n",
              " 'chararray',\n",
              " 'choose',\n",
              " 'clip',\n",
              " 'clongdouble',\n",
              " 'clongfloat',\n",
              " 'column_stack',\n",
              " 'common_type',\n",
              " 'compare_chararrays',\n",
              " 'compat',\n",
              " 'complex',\n",
              " 'complex128',\n",
              " 'complex256',\n",
              " 'complex64',\n",
              " 'complex_',\n",
              " 'complexfloating',\n",
              " 'compress',\n",
              " 'concatenate',\n",
              " 'conj',\n",
              " 'conjugate',\n",
              " 'convolve',\n",
              " 'copy',\n",
              " 'copysign',\n",
              " 'copyto',\n",
              " 'core',\n",
              " 'corrcoef',\n",
              " 'correlate',\n",
              " 'cos',\n",
              " 'cosh',\n",
              " 'count_nonzero',\n",
              " 'cov',\n",
              " 'cross',\n",
              " 'csingle',\n",
              " 'ctypeslib',\n",
              " 'cumprod',\n",
              " 'cumproduct',\n",
              " 'cumsum',\n",
              " 'datetime64',\n",
              " 'datetime_as_string',\n",
              " 'datetime_data',\n",
              " 'deg2rad',\n",
              " 'degrees',\n",
              " 'delete',\n",
              " 'deprecate',\n",
              " 'deprecate_with_doc',\n",
              " 'diag',\n",
              " 'diag_indices',\n",
              " 'diag_indices_from',\n",
              " 'diagflat',\n",
              " 'diagonal',\n",
              " 'diff',\n",
              " 'digitize',\n",
              " 'disp',\n",
              " 'divide',\n",
              " 'divmod',\n",
              " 'dot',\n",
              " 'double',\n",
              " 'dsplit',\n",
              " 'dstack',\n",
              " 'dtype',\n",
              " 'e',\n",
              " 'ediff1d',\n",
              " 'einsum',\n",
              " 'einsum_path',\n",
              " 'emath',\n",
              " 'empty',\n",
              " 'empty_like',\n",
              " 'equal',\n",
              " 'errstate',\n",
              " 'euler_gamma',\n",
              " 'exp',\n",
              " 'exp2',\n",
              " 'expand_dims',\n",
              " 'expm1',\n",
              " 'extract',\n",
              " 'eye',\n",
              " 'fabs',\n",
              " 'fastCopyAndTranspose',\n",
              " 'fft',\n",
              " 'fill_diagonal',\n",
              " 'find_common_type',\n",
              " 'finfo',\n",
              " 'fix',\n",
              " 'flatiter',\n",
              " 'flatnonzero',\n",
              " 'flexible',\n",
              " 'flip',\n",
              " 'fliplr',\n",
              " 'flipud',\n",
              " 'float',\n",
              " 'float128',\n",
              " 'float16',\n",
              " 'float32',\n",
              " 'float64',\n",
              " 'float_',\n",
              " 'float_power',\n",
              " 'floating',\n",
              " 'floor',\n",
              " 'floor_divide',\n",
              " 'fmax',\n",
              " 'fmin',\n",
              " 'fmod',\n",
              " 'format_float_positional',\n",
              " 'format_float_scientific',\n",
              " 'format_parser',\n",
              " 'frexp',\n",
              " 'frombuffer',\n",
              " 'fromfile',\n",
              " 'fromfunction',\n",
              " 'fromiter',\n",
              " 'frompyfunc',\n",
              " 'fromregex',\n",
              " 'fromstring',\n",
              " 'full',\n",
              " 'full_like',\n",
              " 'fv',\n",
              " 'gcd',\n",
              " 'generic',\n",
              " 'genfromtxt',\n",
              " 'geomspace',\n",
              " 'get_array_wrap',\n",
              " 'get_include',\n",
              " 'get_printoptions',\n",
              " 'getbufsize',\n",
              " 'geterr',\n",
              " 'geterrcall',\n",
              " 'geterrobj',\n",
              " 'gradient',\n",
              " 'greater',\n",
              " 'greater_equal',\n",
              " 'half',\n",
              " 'hamming',\n",
              " 'hanning',\n",
              " 'heaviside',\n",
              " 'histogram',\n",
              " 'histogram2d',\n",
              " 'histogram_bin_edges',\n",
              " 'histogramdd',\n",
              " 'hsplit',\n",
              " 'hstack',\n",
              " 'hypot',\n",
              " 'i0',\n",
              " 'identity',\n",
              " 'iinfo',\n",
              " 'imag',\n",
              " 'in1d',\n",
              " 'index_exp',\n",
              " 'indices',\n",
              " 'inexact',\n",
              " 'inf',\n",
              " 'info',\n",
              " 'infty',\n",
              " 'inner',\n",
              " 'insert',\n",
              " 'int',\n",
              " 'int0',\n",
              " 'int16',\n",
              " 'int32',\n",
              " 'int64',\n",
              " 'int8',\n",
              " 'int_',\n",
              " 'intc',\n",
              " 'integer',\n",
              " 'interp',\n",
              " 'intersect1d',\n",
              " 'intp',\n",
              " 'invert',\n",
              " 'ipmt',\n",
              " 'irr',\n",
              " 'is_busday',\n",
              " 'isclose',\n",
              " 'iscomplex',\n",
              " 'iscomplexobj',\n",
              " 'isfinite',\n",
              " 'isfortran',\n",
              " 'isin',\n",
              " 'isinf',\n",
              " 'isnan',\n",
              " 'isnat',\n",
              " 'isneginf',\n",
              " 'isposinf',\n",
              " 'isreal',\n",
              " 'isrealobj',\n",
              " 'isscalar',\n",
              " 'issctype',\n",
              " 'issubclass_',\n",
              " 'issubdtype',\n",
              " 'issubsctype',\n",
              " 'iterable',\n",
              " 'ix_',\n",
              " 'kaiser',\n",
              " 'kernel_version',\n",
              " 'kron',\n",
              " 'lcm',\n",
              " 'ldexp',\n",
              " 'left_shift',\n",
              " 'less',\n",
              " 'less_equal',\n",
              " 'lexsort',\n",
              " 'lib',\n",
              " 'linalg',\n",
              " 'linspace',\n",
              " 'little_endian',\n",
              " 'load',\n",
              " 'loads',\n",
              " 'loadtxt',\n",
              " 'log',\n",
              " 'log10',\n",
              " 'log1p',\n",
              " 'log2',\n",
              " 'logaddexp',\n",
              " 'logaddexp2',\n",
              " 'logical_and',\n",
              " 'logical_not',\n",
              " 'logical_or',\n",
              " 'logical_xor',\n",
              " 'logspace',\n",
              " 'long',\n",
              " 'longcomplex',\n",
              " 'longdouble',\n",
              " 'longfloat',\n",
              " 'longlong',\n",
              " 'lookfor',\n",
              " 'ma',\n",
              " 'mafromtxt',\n",
              " 'mask_indices',\n",
              " 'mat',\n",
              " 'math',\n",
              " 'matmul',\n",
              " 'matrix',\n",
              " 'matrixlib',\n",
              " 'max',\n",
              " 'maximum',\n",
              " 'maximum_sctype',\n",
              " 'may_share_memory',\n",
              " 'mean',\n",
              " 'median',\n",
              " 'memmap',\n",
              " 'meshgrid',\n",
              " 'mgrid',\n",
              " 'min',\n",
              " 'min_scalar_type',\n",
              " 'minimum',\n",
              " 'mintypecode',\n",
              " 'mirr',\n",
              " 'mod',\n",
              " 'modf',\n",
              " 'moveaxis',\n",
              " 'msort',\n",
              " 'multiply',\n",
              " 'nan',\n",
              " 'nan_to_num',\n",
              " 'nanargmax',\n",
              " 'nanargmin',\n",
              " 'nancumprod',\n",
              " 'nancumsum',\n",
              " 'nanmax',\n",
              " 'nanmean',\n",
              " 'nanmedian',\n",
              " 'nanmin',\n",
              " 'nanpercentile',\n",
              " 'nanprod',\n",
              " 'nanquantile',\n",
              " 'nanstd',\n",
              " 'nansum',\n",
              " 'nanvar',\n",
              " 'nbytes',\n",
              " 'ndarray',\n",
              " 'ndenumerate',\n",
              " 'ndfromtxt',\n",
              " 'ndim',\n",
              " 'ndindex',\n",
              " 'nditer',\n",
              " 'negative',\n",
              " 'nested_iters',\n",
              " 'newaxis',\n",
              " 'nextafter',\n",
              " 'nonzero',\n",
              " 'not_equal',\n",
              " 'nper',\n",
              " 'npv',\n",
              " 'numarray',\n",
              " 'number',\n",
              " 'obj2sctype',\n",
              " 'object',\n",
              " 'object0',\n",
              " 'object_',\n",
              " 'ogrid',\n",
              " 'oldnumeric',\n",
              " 'ones',\n",
              " 'ones_like',\n",
              " 'os',\n",
              " 'outer',\n",
              " 'packbits',\n",
              " 'pad',\n",
              " 'partition',\n",
              " 'percentile',\n",
              " 'pi',\n",
              " 'piecewise',\n",
              " 'place',\n",
              " 'pmt',\n",
              " 'poly',\n",
              " 'poly1d',\n",
              " 'polyadd',\n",
              " 'polyder',\n",
              " 'polydiv',\n",
              " 'polyfit',\n",
              " 'polyint',\n",
              " 'polymul',\n",
              " 'polynomial',\n",
              " 'polysub',\n",
              " 'polyval',\n",
              " 'positive',\n",
              " 'power',\n",
              " 'ppmt',\n",
              " 'printoptions',\n",
              " 'prod',\n",
              " 'product',\n",
              " 'promote_types',\n",
              " 'ptp',\n",
              " 'put',\n",
              " 'put_along_axis',\n",
              " 'putmask',\n",
              " 'pv',\n",
              " 'quantile',\n",
              " 'r_',\n",
              " 'rad2deg',\n",
              " 'radians',\n",
              " 'random',\n",
              " 'rate',\n",
              " 'ravel',\n",
              " 'ravel_multi_index',\n",
              " 'real',\n",
              " 'real_if_close',\n",
              " 'rec',\n",
              " 'recarray',\n",
              " 'recfromcsv',\n",
              " 'recfromtxt',\n",
              " 'reciprocal',\n",
              " 'record',\n",
              " 'remainder',\n",
              " 'repeat',\n",
              " 'require',\n",
              " 'reshape',\n",
              " 'resize',\n",
              " 'result_type',\n",
              " 'right_shift',\n",
              " 'rint',\n",
              " 'roll',\n",
              " 'rollaxis',\n",
              " 'roots',\n",
              " 'rot90',\n",
              " 'round',\n",
              " 'round_',\n",
              " 'row_stack',\n",
              " 's_',\n",
              " 'safe_eval',\n",
              " 'save',\n",
              " 'savetxt',\n",
              " 'savez',\n",
              " 'savez_compressed',\n",
              " 'sctype2char',\n",
              " 'sctypeDict',\n",
              " 'sctypeNA',\n",
              " 'sctypes',\n",
              " 'searchsorted',\n",
              " 'select',\n",
              " 'set_numeric_ops',\n",
              " 'set_printoptions',\n",
              " 'set_string_function',\n",
              " 'setbufsize',\n",
              " 'setdiff1d',\n",
              " 'seterr',\n",
              " 'seterrcall',\n",
              " 'seterrobj',\n",
              " 'setxor1d',\n",
              " 'shape',\n",
              " 'shares_memory',\n",
              " 'short',\n",
              " 'show_config',\n",
              " 'sign',\n",
              " 'signbit',\n",
              " 'signedinteger',\n",
              " 'sin',\n",
              " 'sinc',\n",
              " 'single',\n",
              " 'singlecomplex',\n",
              " 'sinh',\n",
              " 'size',\n",
              " 'sometrue',\n",
              " 'sort',\n",
              " 'sort_complex',\n",
              " 'source',\n",
              " 'spacing',\n",
              " 'split',\n",
              " 'sqrt',\n",
              " 'square',\n",
              " 'squeeze',\n",
              " 'stack',\n",
              " 'std',\n",
              " 'str',\n",
              " 'str0',\n",
              " 'str_',\n",
              " 'string_',\n",
              " 'subtract',\n",
              " 'sum',\n",
              " 'swapaxes',\n",
              " 'sys',\n",
              " 'take',\n",
              " 'take_along_axis',\n",
              " 'tan',\n",
              " 'tanh',\n",
              " 'tensordot',\n",
              " 'test',\n",
              " 'testing',\n",
              " 'tile',\n",
              " 'timedelta64',\n",
              " 'trace',\n",
              " 'tracemalloc_domain',\n",
              " 'transpose',\n",
              " 'trapz',\n",
              " 'tri',\n",
              " 'tril',\n",
              " 'tril_indices',\n",
              " 'tril_indices_from',\n",
              " 'trim_zeros',\n",
              " 'triu',\n",
              " 'triu_indices',\n",
              " 'triu_indices_from',\n",
              " 'true_divide',\n",
              " 'trunc',\n",
              " 'typeDict',\n",
              " 'typeNA',\n",
              " 'typecodes',\n",
              " 'typename',\n",
              " 'ubyte',\n",
              " 'ufunc',\n",
              " 'uint',\n",
              " 'uint0',\n",
              " 'uint16',\n",
              " 'uint32',\n",
              " 'uint64',\n",
              " 'uint8',\n",
              " 'uintc',\n",
              " 'uintp',\n",
              " 'ulonglong',\n",
              " 'unicode',\n",
              " 'unicode_',\n",
              " 'union1d',\n",
              " 'unique',\n",
              " 'unpackbits',\n",
              " 'unravel_index',\n",
              " 'unsignedinteger',\n",
              " 'unwrap',\n",
              " 'use_hugepage',\n",
              " 'ushort',\n",
              " 'vander',\n",
              " 'var',\n",
              " 'vdot',\n",
              " 'vectorize',\n",
              " 'version',\n",
              " 'void',\n",
              " 'void0',\n",
              " 'vsplit',\n",
              " 'vstack',\n",
              " 'warnings',\n",
              " 'where',\n",
              " 'who',\n",
              " 'zeros',\n",
              " 'zeros_like']"
            ]
          },
          "metadata": {},
          "execution_count": 3
        }
      ]
    },
    {
      "cell_type": "markdown",
      "metadata": {
        "id": "Q8TT7kiovbnW"
      },
      "source": [
        "# Python list and aray\n",
        "\n",
        "\n",
        "\n",
        "*   dynamic-type list : [True, \"2\", 3.0, 4]\n",
        "*   fixed-type array : array('i', [0, 1, 2, 3, 4, 5, 6, 7, 8, 9])\n",
        "\n"
      ]
    },
    {
      "cell_type": "code",
      "metadata": {
        "id": "mXkqPdzrxARS",
        "colab": {
          "base_uri": "https://localhost:8080/"
        },
        "outputId": "0e901657-bad4-4836-8a8e-a82091c43c09"
      },
      "source": [
        "import array\n",
        "L = list(range(10)) # list\n",
        "A = array.array('i', L) #array\n",
        "A"
      ],
      "execution_count": null,
      "outputs": [
        {
          "output_type": "execute_result",
          "data": {
            "text/plain": [
              "array('i', [0, 1, 2, 3, 4, 5, 6, 7, 8, 9])"
            ]
          },
          "metadata": {},
          "execution_count": 5
        }
      ]
    },
    {
      "cell_type": "markdown",
      "metadata": {
        "id": "31nzy9NfwcbN"
      },
      "source": [
        "# Basic numpy array\n",
        "\n",
        "\n",
        "\n",
        "*   fixed-type\n",
        "*   if types do not match, NumPy will upcast if possible\n",
        "*   multi-dimensional\n",
        "\n",
        "\n",
        "\n"
      ]
    },
    {
      "cell_type": "code",
      "metadata": {
        "id": "V9XErs2_xmh5",
        "colab": {
          "base_uri": "https://localhost:8080/"
        },
        "outputId": "6bfcad5e-c831-46c6-bbca-89e667dbec7e"
      },
      "source": [
        "np.array([3.14, 4, 2, 3])"
      ],
      "execution_count": null,
      "outputs": [
        {
          "output_type": "execute_result",
          "data": {
            "text/plain": [
              "array([3.14, 4.  , 2.  , 3.  ])"
            ]
          },
          "metadata": {},
          "execution_count": 6
        }
      ]
    },
    {
      "cell_type": "code",
      "metadata": {
        "id": "GeNxf5-Ux2Dc",
        "colab": {
          "base_uri": "https://localhost:8080/"
        },
        "outputId": "fef9cc5d-87d8-43aa-8ba7-dbcedcda3572"
      },
      "source": [
        "np.array([range(i, i + 3) for i in [2, 4, 6]])"
      ],
      "execution_count": null,
      "outputs": [
        {
          "output_type": "execute_result",
          "data": {
            "text/plain": [
              "array([[2, 3, 4],\n",
              "       [4, 5, 6],\n",
              "       [6, 7, 8]])"
            ]
          },
          "metadata": {},
          "execution_count": 7
        }
      ]
    },
    {
      "cell_type": "markdown",
      "metadata": {
        "id": "YFCscVpjWPAZ"
      },
      "source": [
        "*   array slices return views rather than copies of the array data"
      ]
    },
    {
      "cell_type": "code",
      "metadata": {
        "id": "1dhnEYUxWQC8",
        "outputId": "273501e7-32de-4dae-e19b-2014f91dea8c",
        "colab": {
          "base_uri": "https://localhost:8080/"
        }
      },
      "source": [
        "x = np.arange(10)\n",
        "x"
      ],
      "execution_count": 5,
      "outputs": [
        {
          "output_type": "execute_result",
          "data": {
            "text/plain": [
              "array([0, 1, 2, 3, 4, 5, 6, 7, 8, 9])"
            ]
          },
          "metadata": {},
          "execution_count": 5
        }
      ]
    },
    {
      "cell_type": "code",
      "metadata": {
        "id": "J15hvy8mWeEa",
        "outputId": "410ce3e9-6c8f-4e8f-b957-4b9f62cf6184",
        "colab": {
          "base_uri": "https://localhost:8080/"
        }
      },
      "source": [
        "sub_x = x[:2]\n",
        "sub_x[0] = 99\n",
        "x"
      ],
      "execution_count": 8,
      "outputs": [
        {
          "output_type": "execute_result",
          "data": {
            "text/plain": [
              "array([99,  1,  2,  3,  4,  5,  6,  7,  8,  9])"
            ]
          },
          "metadata": {},
          "execution_count": 8
        }
      ]
    },
    {
      "cell_type": "code",
      "metadata": {
        "id": "MsezrqETWqNB",
        "outputId": "38742a74-5303-4f60-8257-469449edf8b6",
        "colab": {
          "base_uri": "https://localhost:8080/"
        }
      },
      "source": [
        "sub_x2 = x[:2].copy()\n",
        "sub_x2[1] = 99\n",
        "x"
      ],
      "execution_count": 9,
      "outputs": [
        {
          "output_type": "execute_result",
          "data": {
            "text/plain": [
              "array([99,  1,  2,  3,  4,  5,  6,  7,  8,  9])"
            ]
          },
          "metadata": {},
          "execution_count": 9
        }
      ]
    },
    {
      "cell_type": "markdown",
      "metadata": {
        "id": "epKgdWEUx5y0"
      },
      "source": [
        "## ***dtype***\n",
        "\n",
        "\n",
        "*   np.int_\n",
        "*   np.uint_\n",
        "*   np.float_\n",
        "*   ......\n",
        "*   _ : 8/16/32/64\n",
        "\n"
      ]
    },
    {
      "cell_type": "markdown",
      "metadata": {
        "id": "5FRRpBWQyxhn"
      },
      "source": [
        "## ***cretate from scratch***\n",
        "\n",
        "\n",
        "\n",
        "*   np.zeros -> filled with zeros\n",
        "*   np.ones  -> filled with ones\n",
        "\n",
        "*   np.full(shape, val) -> filled with val\n",
        "\n",
        "*   np.arange(start, end, step)\n",
        "*   np.linspace(start_range, end_range, n_val)\n",
        "\n",
        "\n",
        "*   np.random.random(shape) -> filled with val in [0,1]\n",
        "\n",
        "*   np.random.normal(mean, std, shape)\n",
        "*   np.random.randint(start_range, end_range, shape)\n",
        "\n",
        "*   np.eye(shape) -> identity matrix\n",
        "*   np.empty\n",
        "\n",
        "\n",
        "\n",
        "\n",
        "\n",
        "\n",
        "\n"
      ]
    },
    {
      "cell_type": "code",
      "metadata": {
        "id": "D4hGjpmM0pQ1",
        "colab": {
          "base_uri": "https://localhost:8080/"
        },
        "outputId": "46f6d8df-3882-4625-9f85-318d91b1ce3b"
      },
      "source": [
        "np.zeros (10)\n"
      ],
      "execution_count": null,
      "outputs": [
        {
          "output_type": "execute_result",
          "data": {
            "text/plain": [
              "array([0., 0., 0., 0., 0., 0., 0., 0., 0., 0.])"
            ]
          },
          "metadata": {},
          "execution_count": 9
        }
      ]
    },
    {
      "cell_type": "markdown",
      "metadata": {
        "id": "2ZnEdg6H1ATP"
      },
      "source": [
        "## ***Attributes***\n",
        "\n",
        "\n",
        "\n",
        "*   ndim\n",
        "\n",
        "*   shape\n",
        "\n",
        "*   size\n",
        "*   dtype\n",
        "\n",
        "\n",
        "*   itemsize\n",
        "\n",
        "\n",
        "*   nbytes\n",
        "\n",
        "\n",
        "\n"
      ]
    },
    {
      "cell_type": "code",
      "metadata": {
        "id": "zpNSchjP1kW3",
        "colab": {
          "base_uri": "https://localhost:8080/"
        },
        "outputId": "e7f70acb-0804-4c39-ac53-bf795a9aea47"
      },
      "source": [
        "arr = np.zeros (10)\n",
        "arr.dtype"
      ],
      "execution_count": null,
      "outputs": [
        {
          "output_type": "execute_result",
          "data": {
            "text/plain": [
              "dtype('float64')"
            ]
          },
          "metadata": {},
          "execution_count": 10
        }
      ]
    },
    {
      "cell_type": "markdown",
      "metadata": {
        "id": "KUjBqcSO1jBL"
      },
      "source": [
        "## ***Indexing***\n",
        "\n",
        "\n",
        "\n",
        "*   base 0\n",
        "*   negative index\n",
        "*   X[indicate1, indicate2,..., indicaten]\n",
        "*   x[start:stop:step]\n",
        "*   x[mask] \n",
        "*   x[list of index]\n",
        "*   Combined Indexing : x[mask, l_index]\n",
        "\n",
        "\n"
      ]
    },
    {
      "cell_type": "markdown",
      "metadata": {
        "id": "q1YZfmPvtExF"
      },
      "source": [
        "*   truncation"
      ]
    },
    {
      "cell_type": "code",
      "metadata": {
        "id": "QOJc6-Y73VrP",
        "colab": {
          "base_uri": "https://localhost:8080/"
        },
        "outputId": "a84b0c1d-cf61-40b7-c2b1-a6b4f29aefd8"
      },
      "source": [
        "x1 = np.random.randint(10, size=6)  \n",
        "x1[0] = 3.14159  # this will be truncated!\n",
        "x1"
      ],
      "execution_count": null,
      "outputs": [
        {
          "output_type": "execute_result",
          "data": {
            "text/plain": [
              "array([3, 0, 6, 2, 4, 5])"
            ]
          },
          "metadata": {},
          "execution_count": 11
        }
      ]
    },
    {
      "cell_type": "markdown",
      "metadata": {
        "id": "uZr3XMoZW5_z"
      },
      "source": [
        "## ***Reshaping***"
      ]
    },
    {
      "cell_type": "code",
      "metadata": {
        "id": "CrQwqyW6XmWn",
        "outputId": "69d620d9-c184-4691-9394-96c4e37fe1f5",
        "colab": {
          "base_uri": "https://localhost:8080/"
        }
      },
      "source": [
        "reshaped = np.arange(1,10).reshape((3,3))\n",
        "reshaped"
      ],
      "execution_count": 11,
      "outputs": [
        {
          "output_type": "execute_result",
          "data": {
            "text/plain": [
              "array([[1, 2, 3],\n",
              "       [4, 5, 6],\n",
              "       [7, 8, 9]])"
            ]
          },
          "metadata": {},
          "execution_count": 11
        }
      ]
    },
    {
      "cell_type": "markdown",
      "metadata": {
        "id": "8ZGm0vkmYxhQ"
      },
      "source": [
        "## ***Concatenation***\n",
        "\n",
        "* np.concatenate\n",
        "* np.vstack\n",
        "* np.hstack"
      ]
    },
    {
      "cell_type": "code",
      "metadata": {
        "id": "RcN9zz8MZAuN"
      },
      "source": [
        "x = np.array([[1, 2, 3]])\n",
        "y = np.array([[3, 2, 1]])"
      ],
      "execution_count": 15,
      "outputs": []
    },
    {
      "cell_type": "code",
      "metadata": {
        "id": "9I2nZf1gZevf",
        "outputId": "cc891ce6-abe0-4787-88eb-301532fb6403",
        "colab": {
          "base_uri": "https://localhost:8080/"
        }
      },
      "source": [
        "np.concatenate([x,y], axis = 0) # ~np.vstack"
      ],
      "execution_count": 16,
      "outputs": [
        {
          "output_type": "execute_result",
          "data": {
            "text/plain": [
              "array([[1, 2, 3],\n",
              "       [3, 2, 1]])"
            ]
          },
          "metadata": {},
          "execution_count": 16
        }
      ]
    },
    {
      "cell_type": "code",
      "metadata": {
        "id": "3fTvMAbaZktj",
        "outputId": "8a3574c1-0f8a-4f81-a885-388b79d5cac0",
        "colab": {
          "base_uri": "https://localhost:8080/"
        }
      },
      "source": [
        "np.concatenate([x,y], axis = 1) # ~np.hstack"
      ],
      "execution_count": 17,
      "outputs": [
        {
          "output_type": "execute_result",
          "data": {
            "text/plain": [
              "array([[1, 2, 3, 3, 2, 1]])"
            ]
          },
          "metadata": {},
          "execution_count": 17
        }
      ]
    },
    {
      "cell_type": "markdown",
      "metadata": {
        "id": "A8CDFx78aLMu"
      },
      "source": [
        "## ***spliting***"
      ]
    },
    {
      "cell_type": "code",
      "metadata": {
        "id": "4Kh2wqf5ajNw",
        "outputId": "5e63ddfe-3c26-4776-e089-f6df9f551fe0",
        "colab": {
          "base_uri": "https://localhost:8080/"
        }
      },
      "source": [
        "x = [1, 2, 3, 99, 99, 3, 2, 1]\n",
        "x1, x2, x3 = np.split(x, [3,5])\n",
        "x1, x2, x3"
      ],
      "execution_count": 19,
      "outputs": [
        {
          "output_type": "execute_result",
          "data": {
            "text/plain": [
              "(array([1, 2, 3]), array([99, 99]), array([3, 2, 1]))"
            ]
          },
          "metadata": {},
          "execution_count": 19
        }
      ]
    },
    {
      "cell_type": "markdown",
      "metadata": {
        "id": "fLk-c6GBbAKe"
      },
      "source": [
        "# vectorized operation\n",
        "\n",
        "* np.add\t-> Addition (e.g., 1 + 1 = 2)\n",
        "*\tnp.subtract\t -> Subtraction (e.g., 3 - 2 = 1)\n",
        "*\tnp.negative\t\t-> Unary negation (e.g., -2)\n",
        "*\tnp.multiply\t-> Multiplication (e.g., 2 * 3 = 6)\n",
        "*\tnp.divide\t-> Division (e.g., 3 / 2 = 1.5)\n",
        "*\tnp.floor_divide\t-> Floor division (e.g., 3 // 2 = 1)\n",
        "*\tnp.power -> \tExponentiation (e.g., 2 ** 3 = 8)\n",
        "*\tnp.mod\t-> Modulus/remainder (e.g., 9 % 4 = 1)\n",
        "* ....\n",
        "\n",
        "\n",
        "* np.abs\n",
        "* np.power\n",
        "* np.exp -> e^x\n",
        "* np.log\n",
        "* ....."
      ]
    },
    {
      "cell_type": "code",
      "metadata": {
        "id": "RMYUe0bzduRE",
        "outputId": "82a9fce8-416b-4845-add8-00675ed111dd",
        "colab": {
          "base_uri": "https://localhost:8080/"
        }
      },
      "source": [
        "a = np.random.randint(1,10,10)\n",
        "b = np.random.randint(1,10,10)\n",
        "a,b"
      ],
      "execution_count": 21,
      "outputs": [
        {
          "output_type": "execute_result",
          "data": {
            "text/plain": [
              "(array([1, 6, 9, 2, 4, 3, 7, 9, 3, 4]), array([2, 6, 7, 4, 8, 1, 2, 5, 2, 4]))"
            ]
          },
          "metadata": {},
          "execution_count": 21
        }
      ]
    },
    {
      "cell_type": "code",
      "metadata": {
        "id": "ZOs-fku2d7pi",
        "outputId": "c35d0564-1ea4-454f-f251-e6669ca779ed",
        "colab": {
          "base_uri": "https://localhost:8080/"
        }
      },
      "source": [
        "np.add(a,b)"
      ],
      "execution_count": 22,
      "outputs": [
        {
          "output_type": "execute_result",
          "data": {
            "text/plain": [
              "array([ 3, 12, 16,  6, 12,  4,  9, 14,  5,  8])"
            ]
          },
          "metadata": {},
          "execution_count": 22
        }
      ]
    },
    {
      "cell_type": "code",
      "metadata": {
        "id": "nDCgGKJifEbx",
        "outputId": "2ffc0ba6-fc10-4444-9ed5-f3e23b7f53a2",
        "colab": {
          "base_uri": "https://localhost:8080/"
        }
      },
      "source": [
        "x = np.arange(5)\n",
        "y = np.empty(5)\n",
        "np.multiply(x, 10, out = y)\n",
        "print(y)"
      ],
      "execution_count": 24,
      "outputs": [
        {
          "output_type": "stream",
          "text": [
            "[ 0. 10. 20. 30. 40.]\n"
          ],
          "name": "stdout"
        }
      ]
    },
    {
      "cell_type": "markdown",
      "metadata": {
        "id": "HPu_5nudgVZO"
      },
      "source": [
        "## reduce, accumulate & outer"
      ]
    },
    {
      "cell_type": "code",
      "metadata": {
        "id": "hrFw-u3vfxIG",
        "outputId": "06dc1faa-ed66-439b-e280-c779cfc434a5",
        "colab": {
          "base_uri": "https://localhost:8080/"
        }
      },
      "source": [
        "np.add.reduce(y) # ~sum()"
      ],
      "execution_count": 25,
      "outputs": [
        {
          "output_type": "execute_result",
          "data": {
            "text/plain": [
              "100.0"
            ]
          },
          "metadata": {},
          "execution_count": 25
        }
      ]
    },
    {
      "cell_type": "code",
      "metadata": {
        "id": "QJkI4S01f3U_",
        "outputId": "3a69fd68-fbd0-485a-bdb7-e33c6ee7ea6e",
        "colab": {
          "base_uri": "https://localhost:8080/"
        }
      },
      "source": [
        "np.add.accumulate(y) # ~np.cumsum()"
      ],
      "execution_count": 26,
      "outputs": [
        {
          "output_type": "execute_result",
          "data": {
            "text/plain": [
              "array([  0.,  10.,  30.,  60., 100.])"
            ]
          },
          "metadata": {},
          "execution_count": 26
        }
      ]
    },
    {
      "cell_type": "code",
      "metadata": {
        "id": "Im2gYUsngIau",
        "outputId": "e31b19b6-f01c-4ff6-f574-266af703e3af",
        "colab": {
          "base_uri": "https://localhost:8080/"
        }
      },
      "source": [
        "x = np.arange(1, 6)\n",
        "np.multiply.outer(x, x)"
      ],
      "execution_count": 27,
      "outputs": [
        {
          "output_type": "execute_result",
          "data": {
            "text/plain": [
              "array([[ 1,  2,  3,  4,  5],\n",
              "       [ 2,  4,  6,  8, 10],\n",
              "       [ 3,  6,  9, 12, 15],\n",
              "       [ 4,  8, 12, 16, 20],\n",
              "       [ 5, 10, 15, 20, 25]])"
            ]
          },
          "metadata": {},
          "execution_count": 27
        }
      ]
    },
    {
      "cell_type": "markdown",
      "metadata": {
        "id": "l4j0rTWXejtQ"
      },
      "source": [
        "## scipy.special module"
      ]
    },
    {
      "cell_type": "markdown",
      "metadata": {
        "id": "3Olh_F0Ehvtc"
      },
      "source": [
        "# basic summary statistics\n",
        "\n",
        "* np.sum\t~ np.nansum\t-> Compute sum of elements\n",
        "* np.prod\t~ np.nanprod\t-> Compute product of elements\n",
        "* np.mean\t~ np.nanmean\t-> Compute mean of elements\n",
        "* np.std\t~ np.nanstd\t-> Compute standard deviation\n",
        "* np.var\t~ np.nanvar\t-> Compute variance\n",
        "* np.min\t~ np.nanmin\t-> Find minimum value\n",
        "* np.max\t~ np.nanmax\t-> Find maximum value\n",
        "* np.argmin\t~ np.nanargmin\t-> Find index of minimum value\n",
        "* np.argmax\t~ np.nanargmax\t-> Find index of maximum value\n",
        "* np.median\t~ np.nanmedian\t-> -> Compute median of elements\n",
        "* np.percentile\t~ np.nanpercentile\t-> Compute rank-based statistics of elements\n",
        "* np.any\t->\tEvaluate whether any elements are true\n",
        "* np.all\t->\tEvaluate whether all elements are true"
      ]
    },
    {
      "cell_type": "code",
      "metadata": {
        "id": "goUpt4_tiCh-"
      },
      "source": [
        "import pandas as pd\n",
        "\n",
        "data = pd.read_csv(\"https://raw.githubusercontent.com/huongd17at089/income_prediction/master/data_adult.csv\")"
      ],
      "execution_count": 29,
      "outputs": []
    },
    {
      "cell_type": "code",
      "metadata": {
        "id": "kkO5-sANj3Bt",
        "outputId": "31207743-9d3a-4c0d-f73d-e271656e897c",
        "colab": {
          "base_uri": "https://localhost:8080/"
        }
      },
      "source": [
        "ages = np.array(data.age)\n",
        "ages"
      ],
      "execution_count": 33,
      "outputs": [
        {
          "output_type": "execute_result",
          "data": {
            "text/plain": [
              "array([25, 38, 28, ..., 58, 22, 52])"
            ]
          },
          "metadata": {},
          "execution_count": 33
        }
      ]
    },
    {
      "cell_type": "code",
      "metadata": {
        "id": "8eGTXtjdj9iX",
        "outputId": "afcddaff-7498-4da5-97d9-6eca9fa8b407",
        "colab": {
          "base_uri": "https://localhost:8080/"
        }
      },
      "source": [
        "print(\"Mean :       \", ages.mean())\n",
        "print(\"Standard deviation:\", ages.std())\n",
        "print(\"Minimum :    \", ages.min())\n",
        "print(\"Maximum :    \", ages.max())"
      ],
      "execution_count": 32,
      "outputs": [
        {
          "output_type": "stream",
          "text": [
            "Mean :        38.55660069949818\n",
            "Standard deviation: 13.204124243119237\n",
            "Minimum :     17\n",
            "Maximum :     90\n"
          ],
          "name": "stdout"
        }
      ]
    },
    {
      "cell_type": "markdown",
      "metadata": {
        "id": "siEBVvU1kdMD"
      },
      "source": [
        "# Broadcasting\n",
        "![image.png](data:image/png;base64,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)\n",
        "\n",
        "1. Rule 1: If the two arrays differ in \n",
        "their number of dimensions, the shape of the one with fewer dimensions is padded with ones on its leading (left) side.\n",
        "2. Rule 2: If the shape of the two arrays does not match in any dimension, the array with shape equal to 1 in that dimension is stretched to match the other shape.\n",
        "3. Rule 3: If in any dimension the sizes disagree and neither is equal to 1, an error is raised."
      ]
    },
    {
      "cell_type": "markdown",
      "metadata": {
        "id": "xo-nwGuGo_Ba"
      },
      "source": [
        "# Comparisons, Masks, and Boolean Logic\n",
        "\n",
        "* ==\tnp.equal\t\t\n",
        "* !=\tnp.not_equal\n",
        "* <\tnp.less\t\t\n",
        "* <=\tnp.less_equal\n",
        "* \">\"\tnp.greater\t\t\n",
        "* \">=\"\tnp.greater_equal"
      ]
    },
    {
      "cell_type": "code",
      "metadata": {
        "id": "iAWMCdo8pH2Z"
      },
      "source": [
        "import pandas as pd\n",
        "\n",
        "data = pd.read_csv(\"https://raw.githubusercontent.com/huongd17at089/income_prediction/master/data_adult.csv\")"
      ],
      "execution_count": 39,
      "outputs": []
    },
    {
      "cell_type": "code",
      "metadata": {
        "id": "CYoTNqqmpJPr"
      },
      "source": [
        "ages = data.age.values"
      ],
      "execution_count": 40,
      "outputs": []
    },
    {
      "cell_type": "code",
      "metadata": {
        "id": "NIYTxTS2qSI_",
        "outputId": "8551887e-636f-4066-d04f-97c002bf95d1",
        "colab": {
          "base_uri": "https://localhost:8080/"
        }
      },
      "source": [
        "ages >= 70"
      ],
      "execution_count": 43,
      "outputs": [
        {
          "output_type": "execute_result",
          "data": {
            "text/plain": [
              "array([False, False, False, ..., False, False, False])"
            ]
          },
          "metadata": {},
          "execution_count": 43
        }
      ]
    },
    {
      "cell_type": "code",
      "metadata": {
        "id": "_QJjf3okqgtn",
        "outputId": "8e541f1a-f15a-4d02-aa45-789c5f5c5407",
        "colab": {
          "base_uri": "https://localhost:8080/"
        }
      },
      "source": [
        "(ages >= 70).sum()"
      ],
      "execution_count": 44,
      "outputs": [
        {
          "output_type": "execute_result",
          "data": {
            "text/plain": [
              "741"
            ]
          },
          "metadata": {},
          "execution_count": 44
        }
      ]
    },
    {
      "cell_type": "code",
      "metadata": {
        "id": "26LAzFeArcf3",
        "outputId": "1d9c12ff-c0e6-4945-db33-00b68b7c2952",
        "colab": {
          "base_uri": "https://localhost:8080/"
        }
      },
      "source": [
        "ages[ages >= 90]"
      ],
      "execution_count": 51,
      "outputs": [
        {
          "output_type": "execute_result",
          "data": {
            "text/plain": [
              "array([90, 90, 90, 90, 90, 90, 90, 90, 90, 90, 90, 90, 90, 90, 90, 90, 90,\n",
              "       90, 90, 90, 90, 90, 90, 90, 90, 90, 90, 90, 90, 90, 90, 90, 90, 90,\n",
              "       90, 90, 90, 90, 90, 90, 90, 90, 90, 90, 90, 90, 90])"
            ]
          },
          "metadata": {},
          "execution_count": 51
        }
      ]
    },
    {
      "cell_type": "markdown",
      "metadata": {
        "id": "00HAQpHLrR4V"
      },
      "source": [
        "## bit operator\n",
        "* &\tnp.bitwise_and\t\t\n",
        "* |\tnp.bitwise_or\n",
        "* ^\tnp.bitwise_xor\t\t\n",
        "* ~\tnp.bitwise_not"
      ]
    },
    {
      "cell_type": "code",
      "metadata": {
        "id": "gpG4rmq3qn-A",
        "outputId": "8f9a792c-e1a6-4618-e46a-33ee594cd309",
        "colab": {
          "base_uri": "https://localhost:8080/"
        }
      },
      "source": [
        "np.any(~(ages >= 70 ) & (ages <= 99))"
      ],
      "execution_count": 47,
      "outputs": [
        {
          "output_type": "execute_result",
          "data": {
            "text/plain": [
              "True"
            ]
          },
          "metadata": {},
          "execution_count": 47
        }
      ]
    }
  ]
}